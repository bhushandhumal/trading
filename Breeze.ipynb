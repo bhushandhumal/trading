{
 "cells": [
  {
   "cell_type": "code",
   "execution_count": null,
   "id": "8cebbec2",
   "metadata": {},
   "outputs": [],
   "source": [
    "from breeze_connect import BreezeConnect\n",
    "from jproperties import Properties\n",
    "import urllib\n",
    "from datetime import datetime\n",
    "import pandas as pd"
   ]
  },
  {
   "cell_type": "code",
   "execution_count": null,
   "id": "57a06734",
   "metadata": {},
   "outputs": [],
   "source": [
    "import requests\n",
    "from bs4 import BeautifulSoup\n",
    "\n",
    "url = \"https://www.nseindia.com/content/indices/ind_nifty50list.csv\"\n",
    "response = requests.get(url)\n",
    "\n",
    "soup = BeautifulSoup(response.content, \"html.parser\")\n",
    "table = soup.find_all(\"table\")[0]\n",
    "\n",
    "nifty50_stocks = []\n",
    "for row in table.find_all(\"tr\")[1:]:\n",
    "    cells = row.find_all(\"td\")\n",
    "    nifty50_stocks.append(cells[1].text.strip())\n",
    "\n",
    "print(nifty50_stocks)"
   ]
  },
  {
   "cell_type": "code",
   "execution_count": null,
   "id": "5fa3242c",
   "metadata": {},
   "outputs": [],
   "source": [
    "import requests\n",
    "from bs4 import BeautifulSoup\n",
    "\n",
    "url = \"https://www.nseindia.com/market-data/live-equity-market\"\n",
    "response = requests.get(url)\n",
    "\n",
    "soup = BeautifulSoup(response.content, \"html.parser\")\n",
    "table = soup.find_all(\"table\")[0]\n",
    "\n",
    "nifty50_stocks = []\n",
    "for row in table.find_all(\"tr\")[1:]:\n",
    "    cells = row.find_all(\"td\")\n",
    "    nifty50_stocks.append(cells[0].text.strip())\n",
    "\n",
    "print(nifty50_stocks)"
   ]
  },
  {
   "cell_type": "code",
   "execution_count": null,
   "id": "3fd6abd0",
   "metadata": {},
   "outputs": [],
   "source": [
    "import requests\n",
    "from bs4 import BeautifulSoup\n",
    "\n",
    "url = \"https://www.moneycontrol.com/markets/indian-indices/top-nse-50-companies-list/7?classic=true\"\n",
    "response = requests.get(url)\n",
    "\n",
    "soup = BeautifulSoup(response.content, \"html.parser\")\n",
    "table = soup.find_all(\"table\")[0]\n",
    "print(table)\n",
    "nifty50_stocks = []\n",
    "for row in table.find_all(\"tr\")[1:]:\n",
    "    cells = row.find_all(\"td\")\n",
    "    nifty50_stocks.append(cells[0].text.strip())\n",
    "\n",
    "print(nifty50_stocks)"
   ]
  },
  {
   "cell_type": "code",
   "execution_count": null,
   "id": "182af305",
   "metadata": {},
   "outputs": [],
   "source": [
    "configs = Properties()\n",
    "with open('app.properties', 'rb') as read_prop:\n",
    "    configs.load(read_prop)\n",
    "api_key = configs.get(\"APP_KEY\").data if configs.get(\"APP_KEY\") else None\n",
    "api_secret = configs.get(\"SECRET_KEY\").data if configs.get(\"SECRET_KEY\") else None\n",
    "print(f'Properties Count: {len(configs)}')   \n",
    "\n"
   ]
  },
  {
   "cell_type": "code",
   "execution_count": null,
   "id": "8c945bb1",
   "metadata": {},
   "outputs": [],
   "source": [
    "# Obtain your session key from https://api.icicidirect.com/apiuser/login?api_key=YOUR_API_KEY\n",
    "# Incase your api-key has special characters(like +,=,!) then encode the api key before using in the url as shown below.\n",
    "print(\"https://api.icicidirect.com/apiuser/login?api_key=\"+urllib.parse.quote_plus(api_key))\n"
   ]
  },
  {
   "cell_type": "code",
   "execution_count": null,
   "id": "91a9a1ab",
   "metadata": {},
   "outputs": [],
   "source": [
    "breeze = BreezeConnect(api_key=api_key)\n",
    "\n",
    "session_token = '8179297'\n",
    "# Generate Session\n",
    "breeze.generate_session(api_secret=api_secret,\n",
    "                        session_token=session_token)"
   ]
  },
  {
   "cell_type": "code",
   "execution_count": null,
   "id": "e0f46647",
   "metadata": {},
   "outputs": [],
   "source": [
    "# Generate ISO8601 Date/DateTime String\n",
    "# iso_date_string = datetime.datetime.strptime(\"28/02/2021\",\"%d/%m/%Y\").isoformat()[:10] + 'T05:30:00.000Z'\n",
    "# iso_date_time_string = datetime.datetime.strptime(\"28/02/2021 23:59:59\",\"%d/%m/%Y %H:%M:%S\").isoformat()[:19] + '.000Z'\n",
    "\n",
    "\n",
    "\n",
    "current_date = datetime.now().strftime('%Y-%m-%dT%H:%M:%S.%f%z')\n",
    "print(current_date)"
   ]
  },
  {
   "cell_type": "code",
   "execution_count": null,
   "id": "3b1cc288",
   "metadata": {},
   "outputs": [],
   "source": [
    "def printDF(data):\n",
    "    return pd.DataFrame(data[\"Success\"])"
   ]
  },
  {
   "cell_type": "code",
   "execution_count": null,
   "id": "4ef3d3e7",
   "metadata": {},
   "outputs": [],
   "source": [
    "# get historical data for option premium for a particular strike price and underlying data\n",
    "printDF(breeze.get_historical_data(interval=\"30minute\", # \"1minute\", \"5minute\", \"30minute\" or as \"1day\"\n",
    "\n",
    "                            from_date= \"17-Apr-2023\",\n",
    "\n",
    "                            to_date= \"17-Apr-2023\",\n",
    "\n",
    "                            stock_code=\"ITC\",\n",
    "\n",
    "                            exchange_code=\"NSE\",\n",
    "\n",
    "                            product_type=\"cash\"))\n"
   ]
  },
  {
   "cell_type": "code",
   "execution_count": null,
   "id": "bfb7bc5d",
   "metadata": {},
   "outputs": [],
   "source": [
    "t =breeze.get_option_chain_quotes(stock_code=\"ITC\",\n",
    "                exchange_code=\"NFO\",\n",
    "                product_type=\"options\",\n",
    "                expiry_date=\"27-Apr-2023\",\n",
    "                right=\"call\")\n",
    "print(t)\n",
    "printDF(t)"
   ]
  },
  {
   "cell_type": "code",
   "execution_count": null,
   "id": "c73556d4",
   "metadata": {},
   "outputs": [],
   "source": [
    "t =breeze.get_option_chain_quotes(stock_code=\"ITC\",\n",
    "                    exchange_code=\"NFO\",\n",
    "                    product_type=\"options\",\n",
    "                    strike_price=\"400\",\n",
    "                    right=\"call\")\n",
    "print(t)\n",
    "printDF(t)"
   ]
  },
  {
   "cell_type": "code",
   "execution_count": null,
   "id": "a8090940",
   "metadata": {},
   "outputs": [],
   "source": [
    "printDF(breeze.get_portfolio_holdings(exchange_code=\"NSE\",\n",
    "                                from_date=\"2022-08-01T06:00:00.000Z\",\n",
    "                                to_date=\"2022-08-19T06:00:00.000Z\",\n",
    "                                stock_code=\"\",\n",
    "                                portfolio_type=\"\"))"
   ]
  }
 ],
 "metadata": {
  "kernelspec": {
   "display_name": "Python 3 (ipykernel)",
   "language": "python",
   "name": "python3"
  },
  "language_info": {
   "codemirror_mode": {
    "name": "ipython",
    "version": 3
   },
   "file_extension": ".py",
   "mimetype": "text/x-python",
   "name": "python",
   "nbconvert_exporter": "python",
   "pygments_lexer": "ipython3",
   "version": "3.10.8"
  }
 },
 "nbformat": 4,
 "nbformat_minor": 5
}
