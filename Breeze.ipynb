{
 "cells": [
  {
   "cell_type": "markdown",
   "id": "39540383",
   "metadata": {},
   "source": [
    "### Imports"
   ]
  },
  {
   "cell_type": "code",
   "execution_count": null,
   "id": "8cebbec2",
   "metadata": {},
   "outputs": [],
   "source": [
    "from breeze_connect import BreezeConnect\n",
    "from jproperties import Properties\n",
    "from datetime import datetime\n",
    "import pandas as pd\n",
    "import matplotlib.pyplot as plt"
   ]
  },
  {
   "cell_type": "markdown",
   "id": "321138fe",
   "metadata": {},
   "source": [
    "### Login to Breeze API"
   ]
  },
  {
   "cell_type": "code",
   "execution_count": null,
   "id": "182af305",
   "metadata": {},
   "outputs": [],
   "source": [
    "configs = Properties()\n",
    "with open('app.properties', 'rb') as read_prop:\n",
    "    configs.load(read_prop,\"utf-8\")\n",
    "if len(configs) == 0:\n",
    "    print(\"Error while reading properties files\")\n",
    "\n",
    "api_key = configs.get(\"APP_KEY\").data if configs.get(\"APP_KEY\") else None\n",
    "api_secret = configs.get(\"SECRET_KEY\").data if configs.get(\"SECRET_KEY\") else None\n",
    "session_token =configs.get(\"SESSION_TOKEN\").data if configs.get(\"SESSION_TOKEN\") else None\n",
    "breeze = BreezeConnect(api_key=api_key)\n",
    "breeze.generate_session(api_secret=api_secret,session_token=session_token)"
   ]
  },
  {
   "cell_type": "code",
   "execution_count": null,
   "id": "e0f46647",
   "metadata": {},
   "outputs": [],
   "source": [
    "# Generate ISO8601 Date/DateTime String\n",
    "# iso_date_string = datetime.datetime.strptime(\"28/02/2021\",\"%d/%m/%Y\").isoformat()[:10] + 'T05:30:00.000Z'\n",
    "# iso_date_time_string = datetime.datetime.strptime(\"28/02/2021 23:59:59\",\"%d/%m/%Y %H:%M:%S\").isoformat()[:19] + '.000Z'\n",
    "current_date = datetime.now().strftime('%Y-%m-%dT%H:%M:%S.%f%z')\n",
    "print(current_date)"
   ]
  },
  {
   "cell_type": "code",
   "execution_count": null,
   "id": "3b1cc288",
   "metadata": {},
   "outputs": [],
   "source": [
    "getDF = lambda data : pd.DataFrame(data[\"Success\"])"
   ]
  },
  {
   "cell_type": "code",
   "execution_count": null,
   "id": "4ef3d3e7",
   "metadata": {},
   "outputs": [],
   "source": [
    "interval = \"30minute\" # \"1minute\", \"5minute\", \"30minute\" or as \"1day\"\n",
    "current_date = \"17-Apr-2023\"\n",
    "stock_code = \"NIFTY\"\n",
    "exchange_code = \"NSE\"\n",
    "product_type = \"cash\"\n",
    "\n",
    "columnsToDrop = ['stock_code', 'product_type', 'exchange_code','expiry_date','right','strike_price','volume','open_interest',]\n",
    "\n",
    "# get historical data for option premium for a particular strike price and underlying data\n",
    "df = getDF(breeze.get_historical_data(interval,current_date,current_date,stock_code,exchange_code,product_type))\n",
    "df =df.drop(columns =columnsToDrop)\n",
    "df"
   ]
  },
  {
   "cell_type": "code",
   "execution_count": null,
   "id": "bfb7bc5d",
   "metadata": {},
   "outputs": [],
   "source": [
    "import numpy as np\n",
    "stock_code = \"NIFTY\"\n",
    "exchange_code = \"NFO\"\n",
    "product_type = \"options\"\n",
    "expiry_date = \"27-Apr-2023\"\n",
    "right=\"call\"\n",
    "\n",
    "columnsToDrop = ['stock_code', 'product_type', 'exchange_code']\n",
    "t=breeze.get_option_chain_quotes(stock_code,exchange_code,product_type=product_type,expiry_date=expiry_date,right=right)\n",
    "df = getDF(t)\n",
    "df =df.drop(columns =columnsToDrop)\n",
    "df=df[df['ltp'] > 0] \n",
    "df['spot_price'] = df['spot_price'].astype('float')\n",
    "# df['intrinsic_value'] = np.maximum(0,df['spot_price'] - df['strike_price'])\n",
    "# df=df[df['intrinsic_value'] > 0] \n",
    "df=df[df['strike_price'] > 17600] \n",
    "df['intrinsic_value'] =df['spot_price'] - df['strike_price']\n",
    "df['time_value'] = df['ltp'] - df['intrinsic_value']\n",
    "df[['spot_price','strike_price','ltp','intrinsic_value','time_value']]"
   ]
  },
  {
   "cell_type": "code",
   "execution_count": null,
   "id": "ce701745",
   "metadata": {},
   "outputs": [],
   "source": [
    "\n",
    "df['spot_price']-df['strike_price']"
   ]
  },
  {
   "cell_type": "code",
   "execution_count": null,
   "id": "63403575",
   "metadata": {},
   "outputs": [],
   "source": [
    "# bar plot\n",
    "df.plot(kind='line',\n",
    "        x='ltp',\n",
    "        y='spot_price',\n",
    "        color='green')\n",
    " "
   ]
  },
  {
   "cell_type": "code",
   "execution_count": null,
   "id": "c73556d4",
   "metadata": {},
   "outputs": [],
   "source": [
    "t =breeze.get_option_chain_quotes(stock_code=\"ITC\",\n",
    "                    exchange_code=\"NFO\",\n",
    "                    product_type=\"options\",\n",
    "                    strike_price=\"400\",\n",
    "                    right=\"call\")\n",
    "printDF(t)"
   ]
  },
  {
   "cell_type": "code",
   "execution_count": null,
   "id": "a8090940",
   "metadata": {},
   "outputs": [],
   "source": [
    "printDF(breeze.get_portfolio_holdings(exchange_code=\"NSE\",\n",
    "                                from_date=\"2022-08-01T06:00:00.000Z\",\n",
    "                                to_date=\"2022-08-19T06:00:00.000Z\",\n",
    "                                stock_code=\"\",\n",
    "                                portfolio_type=\"\"))"
   ]
  },
  {
   "cell_type": "code",
   "execution_count": null,
   "id": "7f42b4ed",
   "metadata": {},
   "outputs": [],
   "source": []
  }
 ],
 "metadata": {
  "kernelspec": {
   "display_name": "Python 3 (ipykernel)",
   "language": "python",
   "name": "python3"
  },
  "language_info": {
   "codemirror_mode": {
    "name": "ipython",
    "version": 3
   },
   "file_extension": ".py",
   "mimetype": "text/x-python",
   "name": "python",
   "nbconvert_exporter": "python",
   "pygments_lexer": "ipython3",
   "version": "3.10.8"
  }
 },
 "nbformat": 4,
 "nbformat_minor": 5
}
